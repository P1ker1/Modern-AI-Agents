{
 "cells": [
  {
   "cell_type": "markdown",
   "id": "5b788c4a",
   "metadata": {},
   "source": [
    "\n",
    "# Travel Planning System with Multi-Agent Architecture\n",
    "\n",
    "This notebook defines multiple specialized agents for travel planning:\n",
    "\n",
    "1. **WeatherAnalysisAgent** – predicts best travel months using weather data.\n",
    "2. **HotelRecommenderAgent** – finds hotels matching user preferences.\n",
    "3. **ItineraryPlannerAgent** – generates a daily itinerary using GPT-2.\n",
    "4. **SummaryAgent** – composes a summary email and estimates costs.\n"
   ]
  },
  {
   "cell_type": "code",
   "id": "2e4bddcc",
   "metadata": {
    "ExecuteTime": {
     "end_time": "2025-05-11T09:36:12.115535Z",
     "start_time": "2025-05-11T09:36:10.123247Z"
    }
   },
   "source": [
    "!pip install scikit-learn sentence-transformers transformers torch numpy"
   ],
   "outputs": [
    {
     "name": "stdout",
     "output_type": "stream",
     "text": [
      "Requirement already satisfied: scikit-learn in ./venv/lib/python3.10/site-packages (1.6.1)\r\n",
      "Requirement already satisfied: sentence-transformers in ./venv/lib/python3.10/site-packages (3.4.1)\r\n",
      "Requirement already satisfied: transformers in ./venv/lib/python3.10/site-packages (4.48.3)\r\n",
      "Requirement already satisfied: torch in ./venv/lib/python3.10/site-packages (2.6.0)\r\n",
      "Requirement already satisfied: numpy in ./venv/lib/python3.10/site-packages (2.2.2)\r\n",
      "Requirement already satisfied: scipy>=1.6.0 in ./venv/lib/python3.10/site-packages (from scikit-learn) (1.15.1)\r\n",
      "Requirement already satisfied: joblib>=1.2.0 in ./venv/lib/python3.10/site-packages (from scikit-learn) (1.4.2)\r\n",
      "Requirement already satisfied: threadpoolctl>=3.1.0 in ./venv/lib/python3.10/site-packages (from scikit-learn) (3.5.0)\r\n",
      "Requirement already satisfied: tqdm in ./venv/lib/python3.10/site-packages (from sentence-transformers) (4.67.1)\r\n",
      "Requirement already satisfied: huggingface-hub>=0.20.0 in ./venv/lib/python3.10/site-packages (from sentence-transformers) (0.28.1)\r\n",
      "Requirement already satisfied: Pillow in ./venv/lib/python3.10/site-packages (from sentence-transformers) (11.1.0)\r\n",
      "Requirement already satisfied: filelock in ./venv/lib/python3.10/site-packages (from transformers) (3.17.0)\r\n",
      "Requirement already satisfied: packaging>=20.0 in ./venv/lib/python3.10/site-packages (from transformers) (24.2)\r\n",
      "Requirement already satisfied: pyyaml>=5.1 in ./venv/lib/python3.10/site-packages (from transformers) (6.0.2)\r\n",
      "Requirement already satisfied: regex!=2019.12.17 in ./venv/lib/python3.10/site-packages (from transformers) (2024.11.6)\r\n",
      "Requirement already satisfied: requests in ./venv/lib/python3.10/site-packages (from transformers) (2.32.3)\r\n",
      "Requirement already satisfied: tokenizers<0.22,>=0.21 in ./venv/lib/python3.10/site-packages (from transformers) (0.21.0)\r\n",
      "Requirement already satisfied: safetensors>=0.4.1 in ./venv/lib/python3.10/site-packages (from transformers) (0.5.2)\r\n",
      "Requirement already satisfied: typing-extensions>=4.10.0 in ./venv/lib/python3.10/site-packages (from torch) (4.12.2)\r\n",
      "Requirement already satisfied: networkx in ./venv/lib/python3.10/site-packages (from torch) (3.4.2)\r\n",
      "Requirement already satisfied: jinja2 in ./venv/lib/python3.10/site-packages (from torch) (3.1.5)\r\n",
      "Requirement already satisfied: fsspec in ./venv/lib/python3.10/site-packages (from torch) (2025.2.0)\r\n",
      "Requirement already satisfied: sympy==1.13.1 in ./venv/lib/python3.10/site-packages (from torch) (1.13.1)\r\n",
      "Requirement already satisfied: mpmath<1.4,>=1.1.0 in ./venv/lib/python3.10/site-packages (from sympy==1.13.1->torch) (1.3.0)\r\n",
      "Requirement already satisfied: MarkupSafe>=2.0 in ./venv/lib/python3.10/site-packages (from jinja2->torch) (3.0.2)\r\n",
      "Requirement already satisfied: charset-normalizer<4,>=2 in ./venv/lib/python3.10/site-packages (from requests->transformers) (3.4.1)\r\n",
      "Requirement already satisfied: idna<4,>=2.5 in ./venv/lib/python3.10/site-packages (from requests->transformers) (3.10)\r\n",
      "Requirement already satisfied: urllib3<3,>=1.21.1 in ./venv/lib/python3.10/site-packages (from requests->transformers) (2.3.0)\r\n",
      "Requirement already satisfied: certifi>=2017.4.17 in ./venv/lib/python3.10/site-packages (from requests->transformers) (2025.1.31)\r\n",
      "\r\n",
      "\u001B[1m[\u001B[0m\u001B[34;49mnotice\u001B[0m\u001B[1;39;49m]\u001B[0m\u001B[39;49m A new release of pip is available: \u001B[0m\u001B[31;49m23.2.1\u001B[0m\u001B[39;49m -> \u001B[0m\u001B[32;49m25.1.1\u001B[0m\r\n",
      "\u001B[1m[\u001B[0m\u001B[34;49mnotice\u001B[0m\u001B[1;39;49m]\u001B[0m\u001B[39;49m To update, run: \u001B[0m\u001B[32;49mpip install --upgrade pip\u001B[0m\r\n"
     ]
    }
   ],
   "execution_count": 1
  },
  {
   "cell_type": "code",
   "id": "cfc396f2",
   "metadata": {
    "ExecuteTime": {
     "end_time": "2025-05-11T09:36:15.206106Z",
     "start_time": "2025-05-11T09:36:12.125428Z"
    }
   },
   "source": [
    "\n",
    "from typing import List, Dict\n",
    "import numpy as np\n",
    "from sklearn.ensemble import RandomForestRegressor\n",
    "from sentence_transformers import SentenceTransformer\n",
    "from transformers import pipeline\n"
   ],
   "outputs": [
    {
     "name": "stderr",
     "output_type": "stream",
     "text": [
      "/Users/gabriele/Documents/PythonProjects/Book_example/ch10_streamlit_p_swagent/venv/lib/python3.10/site-packages/tqdm/auto.py:21: TqdmWarning: IProgress not found. Please update jupyter and ipywidgets. See https://ipywidgets.readthedocs.io/en/stable/user_install.html\n",
      "  from .autonotebook import tqdm as notebook_tqdm\n"
     ]
    }
   ],
   "execution_count": 2
  },
  {
   "cell_type": "code",
   "id": "56f9f258",
   "metadata": {
    "ExecuteTime": {
     "end_time": "2025-05-11T09:36:15.264455Z",
     "start_time": "2025-05-11T09:36:15.260983Z"
    }
   },
   "source": [
    "\n",
    "class WeatherAnalysisAgent:\n",
    "    def __init__(self):\n",
    "        self.model = RandomForestRegressor(n_estimators=100)\n",
    "\n",
    "    def train(self, historical_data: Dict):\n",
    "        X = np.array([[d['month'], d['latitude'], d['longitude']] for d in historical_data])\n",
    "        y = np.array([d['weather_score'] for d in historical_data])\n",
    "        self.model.fit(X, y)\n",
    "\n",
    "    def predict_best_time(self, location: Dict) -> Dict:\n",
    "        predictions = []\n",
    "        for month in range(1, 13):\n",
    "            prediction = self.model.predict([[\n",
    "                month,\n",
    "                location['latitude'],\n",
    "                location['longitude']\n",
    "            ]]).item()\n",
    "            predictions.append({'month': month, 'score': float(prediction)})\n",
    "\n",
    "        return {\n",
    "            'best_months': sorted(predictions, key=lambda x: x['score'], reverse=True)[:3],\n",
    "            'location': location\n",
    "        }\n"
   ],
   "outputs": [],
   "execution_count": 3
  },
  {
   "cell_type": "code",
   "id": "e0a23bfc",
   "metadata": {
    "ExecuteTime": {
     "end_time": "2025-05-11T09:36:15.272619Z",
     "start_time": "2025-05-11T09:36:15.269703Z"
    }
   },
   "source": [
    "\n",
    "class HotelRecommenderAgent:\n",
    "    def __init__(self):\n",
    "        self.encoder = SentenceTransformer('all-MiniLM-L6-v2')\n",
    "        self.hotels_db = []\n",
    "        self.hotels_embeddings = None\n",
    "\n",
    "    def add_hotels(self, hotels: List[Dict]):\n",
    "        self.hotels_db = hotels\n",
    "        descriptions = [h['description'] for h in hotels]\n",
    "        self.hotels_embeddings = self.encoder.encode(descriptions)\n",
    "\n",
    "    def find_hotels(self, preferences: str, top_k: int = 5) -> List[Dict]:\n",
    "        pref_embedding = self.encoder.encode([preferences])\n",
    "        similarities = np.dot(self.hotels_embeddings, pref_embedding.T).flatten()\n",
    "        top_indices = similarities.argsort()[-top_k:][::-1]\n",
    "        return [\n",
    "            {**self.hotels_db[i], 'similarity_score': float(similarities[i])}\n",
    "            for i in top_indices\n",
    "        ]\n"
   ],
   "outputs": [],
   "execution_count": 4
  },
  {
   "cell_type": "code",
   "id": "a33ff8fc",
   "metadata": {
    "ExecuteTime": {
     "end_time": "2025-05-11T09:36:15.280830Z",
     "start_time": "2025-05-11T09:36:15.277980Z"
    }
   },
   "source": [
    "\n",
    "class ItineraryPlannerAgent:\n",
    "    def __init__(self):\n",
    "        self.planner = pipeline(\n",
    "            \"text-generation\",\n",
    "            model=\"gpt2\",\n",
    "            max_length=500,\n",
    "            truncation=True,\n",
    "            pad_token_id=50256\n",
    "        )\n",
    "\n",
    "    def create_itinerary(self, destination_info: Dict, weather_info: Dict,\n",
    "                         hotel_info: Dict, duration: int) -> Dict:\n",
    "        prompt = self._create_prompt(destination_info, weather_info, hotel_info, duration)\n",
    "        response = self.planner(prompt)[0]['generated_text']\n",
    "        return {\n",
    "            'itinerary': response,\n",
    "            'duration': duration,\n",
    "            'destination': destination_info['name']\n",
    "        }\n",
    "\n",
    "    def _create_prompt(self, destination_info: Dict, weather_info: Dict,\n",
    "                       hotel_info: Dict, duration: int) -> str:\n",
    "        return f\"\"\"Create a {duration}-day itinerary for {destination_info['name']}.\n",
    "        Weather: {weather_info['best_months'][0]['month']} is the best month.\n",
    "        Hotel: Staying at {hotel_info[0]['name']}.\n",
    "        Attractions: {', '.join(destination_info['attractions'])}.\"\"\"\n"
   ],
   "outputs": [],
   "execution_count": 5
  },
  {
   "cell_type": "code",
   "id": "b3b420c9",
   "metadata": {
    "ExecuteTime": {
     "end_time": "2025-05-11T09:36:15.311893Z",
     "start_time": "2025-05-11T09:36:15.308571Z"
    }
   },
   "source": [
    "\n",
    "class SummaryAgent:\n",
    "    def __init__(self):\n",
    "        self.llm = pipeline(\n",
    "            \"text-generation\",\n",
    "            model=\"gpt2\",\n",
    "            max_length=1000,\n",
    "            truncation=True,\n",
    "            pad_token_id=50256\n",
    "        )\n",
    "\n",
    "    def calculate_total_price(self, hotel_info: Dict, duration: int) -> float:\n",
    "        hotel_cost = hotel_info[0]['price'] * duration\n",
    "        daily_expenses = 100\n",
    "        return hotel_cost + daily_expenses * duration\n",
    "\n",
    "    def create_email(self, trip_data: Dict, client_name: str) -> Dict:\n",
    "        total_price = self.calculate_total_price(\n",
    "            trip_data['recommended_hotels'],\n",
    "            trip_data['itinerary']['duration']\n",
    "        )\n",
    "        prompt = f\"\"\"\n",
    "        Dear {client_name},\n",
    "\n",
    "        Based on your preferences, I'm pleased to present your travel plan:\n",
    "\n",
    "        Destination: {trip_data['itinerary']['destination']}\n",
    "        Duration: {trip_data['itinerary']['duration']} days\n",
    "        Best time to visit: Month {trip_data['weather_analysis']['best_months'][0]['month']}\n",
    "\n",
    "        Recommended Hotel: {trip_data['recommended_hotels'][0]['name']}\n",
    "\n",
    "        Itinerary Overview:\n",
    "        {trip_data['itinerary']['itinerary']}\n",
    "\n",
    "        Estimated Total Cost: ${total_price}\n",
    "        \"\"\"\n",
    "        response = self.llm(prompt)[0]['generated_text']\n",
    "        return {\n",
    "            'email_content': response,\n",
    "            'total_price': total_price\n",
    "        }\n"
   ],
   "outputs": [],
   "execution_count": 6
  },
  {
   "cell_type": "code",
   "id": "3093957b",
   "metadata": {
    "ExecuteTime": {
     "end_time": "2025-05-11T09:37:54.301448Z",
     "start_time": "2025-05-11T09:36:15.316681Z"
    }
   },
   "source": [
    "\n",
    "class TravelPlanningSystem:\n",
    "    def __init__(self):\n",
    "        self.weather_agent = WeatherAnalysisAgent()\n",
    "        self.hotel_agent = HotelRecommenderAgent()\n",
    "        self.itinerary_agent = ItineraryPlannerAgent()\n",
    "        self.summary_agent = SummaryAgent()\n",
    "\n",
    "    def setup(self, weather_data, hotel_data):\n",
    "        self.weather_agent.train(weather_data)\n",
    "        self.hotel_agent.add_hotels(hotel_data)\n",
    "\n",
    "    def plan_trip(self, destination, preferences, duration, client_name):\n",
    "        weather = self.weather_agent.predict_best_time(destination)\n",
    "        hotels = self.hotel_agent.find_hotels(preferences)\n",
    "        itinerary = self.itinerary_agent.create_itinerary(destination, weather, hotels, duration)\n",
    "        summary = self.summary_agent.create_email({\n",
    "            'weather_analysis': weather,\n",
    "            'recommended_hotels': hotels,\n",
    "            'itinerary': itinerary\n",
    "        }, client_name)\n",
    "        return summary\n",
    "\n",
    "# Sample usage\n",
    "historical_weather_data = [{'month': m, 'latitude': 41.9, 'longitude': 12.5, 'weather_score': 0.5 + 0.05 * m} for m in range(1,13)]\n",
    "hotels_database = [\n",
    "    {'name': 'Grand Hotel', 'description': 'Luxury hotel in city center with spa and restaurant', 'price': 300},\n",
    "    {'name': 'Boutique Resort', 'description': 'Boutique hotel with personalized service', 'price': 250}\n",
    "]\n",
    "destination = {'name': 'Rome', 'latitude': 41.9, 'longitude': 12.5, 'attractions': ['Colosseum', 'Vatican']}\n",
    "preferences = \"Luxury hotel with spa and restaurant\"\n",
    "system = TravelPlanningSystem()\n",
    "system.setup(historical_weather_data, hotels_database)\n",
    "result = system.plan_trip(destination, preferences, 3, \"John Smith\")\n",
    "print(result['email_content'])\n",
    "print(\"Estimated Total Cost: $\", result['total_price'])\n"
   ],
   "outputs": [
    {
     "name": "stderr",
     "output_type": "stream",
     "text": [
      "Device set to use mps:0\n",
      "Device set to use mps:0\n"
     ]
    },
    {
     "name": "stdout",
     "output_type": "stream",
     "text": [
      "\n",
      "        Dear John Smith,\n",
      "\n",
      "        Based on your preferences, I'm pleased to present your travel plan:\n",
      "\n",
      "        Destination: Rome\n",
      "        Duration: 3 days\n",
      "        Best time to visit: Month 12\n",
      "\n",
      "        Recommended Hotel: Grand Hotel\n",
      "\n",
      "        Itinerary Overview:\n",
      "        Create a 3-day itinerary for Rome.\n",
      "        Weather: 12 is the best month.\n",
      "        Hotel: Staying at Grand Hotel.\n",
      "        Attractions: Colosseum, Vatican.\n",
      "                               \n",
      "Campus: The Church of St. Paul's at the site of St. James and St. Mary at the site of the New Sanctuary\n",
      "                              There are many sites at the site of St. James and St. Mary, which were constructed by St. Paul (7:15-22); the site of Pius Felix's church (2:20-23), which is mentioned by C.S. Lewis' poem, \"The Cave of St. Paul\" (17:4). In 1601, a Roman monastery was built there from which, as mentioned previously, the Romans used a great wall to erect a church. One site by the name of Vigna Cui di Medicis may even date as far back as 1751. It is estimated in 1657, at that time, that the temple at Noli was founded to have been built from wood at Campani. The church stands on a circular platform, with two stone columns, a high wall, and a pew at left for the entrance. There were six large stades, built by St. Ambrose in August 1636.\n",
      "Campus at Alexandria\n",
      "A site called Campaneus between the Roman and Greek boundaries. This site belongs to St. Peter, an early Christian bishop and patron to the Pope. It is the only site which is dedicated to him, and, in fact, is a \"staging\" site for the creation of the Church of Rome. Its site is very impressive, containing a high wall wall, with a stone tower upon it, as well as a great mosaic wall that has been a source of many prayers, and is also a symbol of St. Peter's position as bishop there. It consists of many columns of oak, and of oak in three places, all connected by two arches and a large tower, both connected with two walls. It has eight different columns, each joined by\n",
      "\n",
      "        Estimated Total Cost: $1200\n",
      "               Note: A portion of the site will be donated to the church by the Catholic General Assembly by St. John Chrysostom in 2015. All of the materials used in the construction is donated by the Catholic general Assembly in the future and will be used for an educational project in the church of Rome, as well.\n",
      "Campus at The Great Sea\n",
      "The site of The Great Sea, from which the Church of St. Paul's, founded in 1607, was established in 1449 as this monastery of St. Peter. It is considered one of the main sites on which the Church of Rome now works. For this site, as used here, the Roman Catholic cardinal of Rome was Pope Paul I. Campana, who had also been a patron of the Church of Rome in exile; he succeeded him.\n",
      "Campana was born in 1330 in Alexandria of the \"Great Sea\" (Sarmatian). He had been a student of the Sacred Heart, which had been built for him in the fourth century BC. At the same time, he was a missionary from Alexandria to Carthage in 1 727. For his time in Rome, however, Campana lived in the vicinity of the city of Carthage, called at Rome. He had traveled from there to Rome by sea to help the people in Carthage. He was succeeded by his wife in 1334.\n",
      "Campana, after leaving his native Alexandria, had his own monastery in the town of Tres Cidero and went to Rome in 1441. His monastery, known as Campana, was in the neighbourhood of the Roman monument of Rome. He is also in a monastery called, \"Campana Bicun,\" located in the city of San Giovanni in the west part of the country. This monastery was established in 1460\n",
      "Estimated Total Cost: $ 1200\n"
     ]
    }
   ],
   "execution_count": 7
  }
 ],
 "metadata": {
  "kernelspec": {
   "name": "python3",
   "language": "python",
   "display_name": "Python 3 (ipykernel)"
  }
 },
 "nbformat": 4,
 "nbformat_minor": 5
}
